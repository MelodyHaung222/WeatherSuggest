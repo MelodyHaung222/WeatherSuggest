{
 "cells": [
  {
   "cell_type": "code",
   "execution_count": 93,
   "id": "e64e9d70",
   "metadata": {},
   "outputs": [],
   "source": [
    "import numpy as np\n",
    "import pandas as pd\n",
    "import csv\n",
    "import flet as ft\n",
    "import requests"
   ]
  },
  {
   "cell_type": "code",
   "execution_count": 94,
   "id": "a32ef29a",
   "metadata": {},
   "outputs": [],
   "source": [
    "weather_df = pd.read_csv('weather.csv', header=None)\n",
    "weather = weather_df.values"
   ]
  },
  {
   "cell_type": "code",
   "execution_count": 95,
   "id": "28c57949",
   "metadata": {},
   "outputs": [],
   "source": [
    "city = []\n",
    "for i in range(1, len(weather)):\n",
    "    city.append(str(weather[i][0]))"
   ]
  },
  {
   "cell_type": "code",
   "execution_count": 96,
   "id": "72f9908e",
   "metadata": {},
   "outputs": [],
   "source": [
    "csvfile = \"weather.csv\"\n",
    "\n",
    "url = 'https://opendata.cwb.gov.tw/fileapi/v1/opendataapi/F-C0032-001?Authorization=CWB-27185B1A-58E5-4E1F-A9D4-8A1F836352BD&downloadType=WEB&format=JSON'\n",
    "data = requests.get(url)   # 取得 JSON 檔案的內容為文字\n",
    "data_json = data.json()    # 轉換成 JSON 格式\n",
    "location = data_json['cwbopendata']['dataset']['location']\n",
    "\n",
    "\n",
    "items = []\n",
    "for i in location:\n",
    "    item = []\n",
    "    item.append(i['locationName'])    # 縣市名稱\n",
    "    item.append(i['weatherElement'][0]['time'][0]['parameter']['parameterName'])    # 天氣現象\n",
    "    item.append(i['weatherElement'][1]['time'][0]['parameter']['parameterName']) # 最高溫\n",
    "    item.append(i['weatherElement'][2]['time'][0]['parameter']['parameterName'])  # 最低溫\n",
    "    item.append(i['weatherElement'][3]['time'][0]['parameter']['parameterName'])   # 舒適度\n",
    "    item.append(i['weatherElement'][4]['time'][0]['parameter']['parameterName'])   # 降雨機率\n",
    "    items.append(item)\n",
    "\n",
    "    \n",
    "\n",
    "#title = [\"縣市名稱\",\"天氣現象\",\"最高溫\",\"最低溫\",\"舒適度\",\"降雨機率\"]\n",
    "with open(csvfile,\"w+\",encoding='utf-8',newline='') as csvfile:\n",
    "    writer = csv.writer(csvfile)\n",
    "    writer.writerow([\"縣市名稱\",\"天氣現象\",\"最高溫\",\"最低溫\",\"舒適度\",\"降雨機率\"])\n",
    "    for item in items:\n",
    "        writer.writerow(item)\n",
    "    "
   ]
  },
  {
   "cell_type": "code",
   "execution_count": 97,
   "id": "dc7c6eb9",
   "metadata": {},
   "outputs": [
    {
     "name": "stderr",
     "output_type": "stream",
     "text": [
      "C:\\Users\\Melody\\anaconda3\\lib\\site-packages\\sklearn\\linear_model\\_logistic.py:814: ConvergenceWarning: lbfgs failed to converge (status=1):\n",
      "STOP: TOTAL NO. of ITERATIONS REACHED LIMIT.\n",
      "\n",
      "Increase the number of iterations (max_iter) or scale the data as shown in:\n",
      "    https://scikit-learn.org/stable/modules/preprocessing.html\n",
      "Please also refer to the documentation for alternative solver options:\n",
      "    https://scikit-learn.org/stable/modules/linear_model.html#logistic-regression\n",
      "  n_iter_i = _check_optimize_result(\n"
     ]
    },
    {
     "data": {
      "text/plain": [
       "LogisticRegression()"
      ]
     },
     "execution_count": 97,
     "metadata": {},
     "output_type": "execute_result"
    }
   ],
   "source": [
    "from sklearn.model_selection import train_test_split\n",
    "from sklearn.linear_model import LogisticRegression\n",
    "\n",
    "\n",
    "historical_data = ([27,70],[26,80],[28,90],[28,100],[28,20],[28,30],[27,10],[28,40],[27,50],[28,10],[29,30],[29,20],[30,20],[31,10],[31,10],[29,20],[30,80],[29,80],[31,70],[30,90])\n",
    "\n",
    "\n",
    "\n",
    "# 目標天氣狀態（請替換為你的實際資料）\n",
    "target_weather =([\n",
    "    '適合出門，可能降雨請帶傘出門',\n",
    "    '適合出門，可能降雨請帶傘出門',\n",
    "    '適合出門，可能降雨請帶傘出門',\n",
    "    '適合出門，可能降雨請帶傘出門',\n",
    "    '適合出門，降雨機率低',\n",
    "    '適合出門，降雨機率低',\n",
    "    '適合出門，降雨機率低',\n",
    "    '適合出門，降雨機率低',\n",
    "    '適合出門，降雨機率低',\n",
    "    '適合出門，降雨機率低',\n",
    "    '紫外線強度高，請做好防曬再出門',\n",
    "    '紫外線強度高，請做好防曬再出門',\n",
    "    '紫外線強度高，請做好防曬再出門',\n",
    "    '紫外線強度高，請做好防曬再出門',\n",
    "    '紫外線強度高，請做好防曬再出門',\n",
    "    '紫外線強度高，請做好防曬再出門',\n",
    "    '紫外線強度高且可能下雨請待在家',\n",
    "    '紫外線強度高且可能下雨請待在家',\n",
    "    '紫外線強度高且可能下雨請待在家',\n",
    "    '紫外線強度高且可能下雨請待在家'])\n",
    "\n",
    "\n",
    "\n",
    "# 將資料分為訓練集和測試集\n",
    "X_train, X_test, y_train, y_test = train_test_split(historical_data, target_weather, test_size=0.2, random_state=42)\n",
    "\n",
    "# 建立和訓練機器學習模型\n",
    "model = LogisticRegression()\n",
    "model.fit(X_train, y_train)\n",
    "\n"
   ]
  },
  {
   "cell_type": "code",
   "execution_count": 98,
   "id": "a80f202a",
   "metadata": {},
   "outputs": [
    {
     "name": "stderr",
     "output_type": "stream",
     "text": [
      "C:\\Users\\Melody\\anaconda3\\lib\\site-packages\\sklearn\\base.py:566: FutureWarning: Arrays of bytes/strings is being converted to decimal numbers if dtype='numeric'. This behavior is deprecated in 0.24 and will be removed in 1.1 (renaming of 0.26). Please convert your data to numeric values explicitly instead.\n",
      "  X = check_array(X, **check_params)\n"
     ]
    }
   ],
   "source": [
    "def main(page: ft.Page):\n",
    "    global choose_city\n",
    "\n",
    "    # GUI的排版\n",
    "    page.title = \"Whether Predict and Suggest System\"\n",
    "    page.window_width = 750\n",
    "    page.window_height = 600\n",
    "    page.horizontal_alignment = ft.CrossAxisAlignment.CENTER\n",
    "\n",
    "    choose_city = \"\"\n",
    "    # 按鈕的function\n",
    "    choose = ft.Text()\n",
    "    def choose_city_click(aaa):\n",
    "        # 使用global變數定義choose_city讓其他function也能夠使用到被更新後的同樣參數\n",
    "        # 可以使用aaa.control.data抓到站名\n",
    "        global choose_city,i\n",
    "        choose_city = aaa.control.data\n",
    "        i = city.index(choose_city)\n",
    "        aaa.control.icon = \"CHECK_CIRCLE_OUTLINED\" #set icon\n",
    "        if choose_city is not None:\n",
    "            choose.value = f'{choose_city}'# get choose value\n",
    "        page.update()\n",
    "        \n",
    "    def predict():\n",
    "        X_test = [[items[i][2],items[i][5]]]\n",
    "        prediction = model.predict(X_test)\n",
    "        return prediction[0]\n",
    "    \n",
    "    highest = ft.Text()\n",
    "    lowest = ft.Text()\n",
    "    rain_rate = ft.Text()\n",
    "    def prediction_click(aaa):\n",
    "        aaa.control.icon = \"CHECK_CIRCLE_OUTLINED\" #set icon\n",
    "        highest.value = f'最高溫: {items[i][2]}度'\n",
    "        lowest.value = f'最低溫: {items[i][3]}度'\n",
    "        rain_rate.value = f'降雨量:{items[i][5]}%'\n",
    "\n",
    "        page.update()\n",
    "        \n",
    "    suggest1 = ft.Text()\n",
    "    suggest2 = ft.Text()\n",
    "    #suggest3 = ft.Text()\n",
    "   \n",
    "    def suggestion_click(aaa):\n",
    "        aaa.control.icon = \"CHECK_CIRCLE_OUTLINED\" #set icon\n",
    "        suggest1.value = f'天氣{items[i][4]}'\n",
    "        suggest2.value = f'預測結果:{predict()}'\n",
    "        page.update()\n",
    "    '''\n",
    "        if \"舒適\" in items[i][4]:\n",
    "            suggest2.value = f'適合出門'\n",
    "        elif \"悶熱\" in items[i][4]:\n",
    "            suggest2.value = f'請在家避暑'\n",
    "        if \"陣雨\" in items[i][1]:\n",
    "            suggest3.value = f'可能降雨請帶傘出門'\n",
    "        else:\n",
    "            suggest3.value = f'降雨機率低，可不必帶傘'\n",
    "    '''\n",
    "        \n",
    "    \n",
    "        \n",
    "    # ------建立物件------\n",
    "    choose_text = ft.Text(\"Please select your city\", size=18)\n",
    "    \n",
    "    rows = 6\n",
    "    columns = 4\n",
    "    controls = []\n",
    "\n",
    "    for row in range(rows):\n",
    "        buttons = []\n",
    "        choose_index = row * columns\n",
    "        end_index = choose_index + columns\n",
    "        for index in range(choose_index, end_index):\n",
    "            if index>=len(city):\n",
    "                break\n",
    "            else:\n",
    "                buttons.append(ft.ElevatedButton(text=f\"{city[index]}\", data=f\"{city[index]}\", width=150, on_click = choose_city_click))\n",
    "        controls.append(ft.Row(controls=buttons))\n",
    "        \n",
    "\n",
    "    page.add(choose_text, *controls,ft.Row(controls=[ft.ElevatedButton(text=f\"Get prediction\", width=630, on_click=prediction_click)]),ft.Row(controls=[ft.ElevatedButton(text=f\"Get suggest\", width=630, on_click=suggestion_click)]),choose,highest,lowest,rain_rate,suggest1,suggest2)\n",
    "        \n",
    "ft.app(target=main)"
   ]
  },
  {
   "cell_type": "code",
   "execution_count": null,
   "id": "184e8689",
   "metadata": {},
   "outputs": [],
   "source": []
  },
  {
   "cell_type": "code",
   "execution_count": null,
   "id": "2fcb1893",
   "metadata": {},
   "outputs": [],
   "source": []
  }
 ],
 "metadata": {
  "kernelspec": {
   "display_name": "Python 3 (ipykernel)",
   "language": "python",
   "name": "python3"
  },
  "language_info": {
   "codemirror_mode": {
    "name": "ipython",
    "version": 3
   },
   "file_extension": ".py",
   "mimetype": "text/x-python",
   "name": "python",
   "nbconvert_exporter": "python",
   "pygments_lexer": "ipython3",
   "version": "3.9.13"
  }
 },
 "nbformat": 4,
 "nbformat_minor": 5
}
